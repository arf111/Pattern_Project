{
 "cells": [
  {
   "cell_type": "code",
   "execution_count": 552,
   "metadata": {},
   "outputs": [],
   "source": [
    "import pandas as pd \n",
    "import matplotlib.pyplot as plt \n",
    "from sklearn import preprocessing\n",
    "import seaborn as sns\n",
    "\n",
    "import tensorflow as tf\n",
    "from tensorflow import keras\n",
    "from tensorflow.keras import layers"
   ]
  },
  {
   "cell_type": "code",
   "execution_count": 553,
   "metadata": {},
   "outputs": [],
   "source": [
    "class myCallback(keras.callbacks.Callback):\n",
    "    def on_epoch_end(self, epoch, logs={}):\n",
    "        if(logs.get('acc') > 0.98):\n",
    "            print(\"\\nReached 99% accuracy so cancelling training!\")\n",
    "            self.model.stop_training = True"
   ]
  },
  {
   "cell_type": "code",
   "execution_count": 554,
   "metadata": {},
   "outputs": [],
   "source": [
    "df = pd.read_csv(\"EXTENDED_1.csv\",encoding=\"latin-1\")\n",
    "\n",
    "# Extract features for fashion active peoples\n",
    "cols = [\"Do you have online shopping experience (y/n)\",\n",
    "              \"Do you use products for grooming(y/n)\",\n",
    "              \"Monthly frequencies of shopping\",\n",
    "              \"Fashion Oriented\"]\n",
    "\n",
    "dataset = df[cols].copy()"
   ]
  },
  {
   "cell_type": "code",
   "execution_count": 555,
   "metadata": {},
   "outputs": [],
   "source": [
    "dataset = dataset.dropna() # clear missing values rows"
   ]
  },
  {
   "cell_type": "code",
   "execution_count": 556,
   "metadata": {},
   "outputs": [
    {
     "data": {
      "text/plain": [
       "<matplotlib.axes._subplots.AxesSubplot at 0x1b8e6729780>"
      ]
     },
     "execution_count": 556,
     "metadata": {},
     "output_type": "execute_result"
    },
    {
     "data": {
      "image/png": "[encoded data removed]",
      "text/plain": [
       "<Figure size 432x288 with 1 Axes>"
      ]
     },
     "metadata": {},
     "output_type": "display_data"
    }
   ],
   "source": [
    "dataset.boxplot(by=['Monthly frequencies of shopping'], column=['Fashion Oriented'], grid= False)"
   ]
  },
  {
   "cell_type": "code",
   "execution_count": 557,
   "metadata": {},
   "outputs": [
    {
     "data": {
      "text/html": [
       "<div>\n",
       "<style scoped>\n",
       "    .dataframe tbody tr th:only-of-type {\n",
       "        vertical-align: middle;\n",
       "    }\n",
       "\n",
       "    .dataframe tbody tr th {\n",
       "        vertical-align: top;\n",
       "    }\n",
       "\n",
       "    .dataframe thead th {\n",
       "        text-align: right;\n",
       "    }\n",
       "</style>\n",
       "<table border=\"1\" class=\"dataframe\">\n",
       "  <thead>\n",
       "    <tr style=\"text-align: right;\">\n",
       "      <th></th>\n",
       "      <th>Do you have online shopping experience (y/n)</th>\n",
       "      <th>Do you use products for grooming(y/n)</th>\n",
       "      <th>Monthly frequencies of shopping</th>\n",
       "      <th>Fashion Oriented</th>\n",
       "    </tr>\n",
       "  </thead>\n",
       "  <tbody>\n",
       "    <tr>\n",
       "      <th>1</th>\n",
       "      <td>0.0</td>\n",
       "      <td>1.0</td>\n",
       "      <td>2.0</td>\n",
       "      <td>0.0</td>\n",
       "    </tr>\n",
       "    <tr>\n",
       "      <th>2</th>\n",
       "      <td>1.0</td>\n",
       "      <td>1.0</td>\n",
       "      <td>2.0</td>\n",
       "      <td>1.0</td>\n",
       "    </tr>\n",
       "    <tr>\n",
       "      <th>3</th>\n",
       "      <td>1.0</td>\n",
       "      <td>1.0</td>\n",
       "      <td>2.0</td>\n",
       "      <td>1.0</td>\n",
       "    </tr>\n",
       "    <tr>\n",
       "      <th>4</th>\n",
       "      <td>0.0</td>\n",
       "      <td>0.0</td>\n",
       "      <td>2.0</td>\n",
       "      <td>0.0</td>\n",
       "    </tr>\n",
       "    <tr>\n",
       "      <th>5</th>\n",
       "      <td>1.0</td>\n",
       "      <td>1.0</td>\n",
       "      <td>2.0</td>\n",
       "      <td>1.0</td>\n",
       "    </tr>\n",
       "  </tbody>\n",
       "</table>\n",
       "</div>"
      ],
      "text/plain": [
       "   Do you have online shopping experience (y/n)  \\\n",
       "1                                           0.0   \n",
       "2                                           1.0   \n",
       "3                                           1.0   \n",
       "4                                           0.0   \n",
       "5                                           1.0   \n",
       "\n",
       "   Do you use products for grooming(y/n)  Monthly frequencies of shopping  \\\n",
       "1                                    1.0                              2.0   \n",
       "2                                    1.0                              2.0   \n",
       "3                                    1.0                              2.0   \n",
       "4                                    0.0                              2.0   \n",
       "5                                    1.0                              2.0   \n",
       "\n",
       "   Fashion Oriented  \n",
       "1               0.0  \n",
       "2               1.0  \n",
       "3               1.0  \n",
       "4               0.0  \n",
       "5               1.0  "
      ]
     },
     "execution_count": 557,
     "metadata": {},
     "output_type": "execute_result"
    }
   ],
   "source": [
    "dataset['Do you have online shopping experience (y/n)'] = (dataset['Do you have online shopping experience (y/n)'] == 'Yes').astype(float)\n",
    "dataset['Do you use products for grooming(y/n)'] = (dataset['Do you use products for grooming(y/n)'] == 'Yes').astype(float)\n",
    "\n",
    "dataset.head()"
   ]
  },
  {
   "cell_type": "code",
   "execution_count": 558,
   "metadata": {},
   "outputs": [
    {
     "data": {
      "text/html": [
       "<div>\n",
       "<style scoped>\n",
       "    .dataframe tbody tr th:only-of-type {\n",
       "        vertical-align: middle;\n",
       "    }\n",
       "\n",
       "    .dataframe tbody tr th {\n",
       "        vertical-align: top;\n",
       "    }\n",
       "\n",
       "    .dataframe thead th {\n",
       "        text-align: right;\n",
       "    }\n",
       "</style>\n",
       "<table border=\"1\" class=\"dataframe\">\n",
       "  <thead>\n",
       "    <tr style=\"text-align: right;\">\n",
       "      <th></th>\n",
       "      <th>Do you have online shopping experience (y/n)</th>\n",
       "      <th>Do you use products for grooming(y/n)</th>\n",
       "      <th>Monthly frequencies of shopping</th>\n",
       "      <th>Fashion Oriented</th>\n",
       "    </tr>\n",
       "  </thead>\n",
       "  <tbody>\n",
       "    <tr>\n",
       "      <th>0</th>\n",
       "      <td>0.0</td>\n",
       "      <td>1.0</td>\n",
       "      <td>0.4</td>\n",
       "      <td>0.0</td>\n",
       "    </tr>\n",
       "    <tr>\n",
       "      <th>1</th>\n",
       "      <td>1.0</td>\n",
       "      <td>1.0</td>\n",
       "      <td>0.4</td>\n",
       "      <td>1.0</td>\n",
       "    </tr>\n",
       "    <tr>\n",
       "      <th>2</th>\n",
       "      <td>1.0</td>\n",
       "      <td>1.0</td>\n",
       "      <td>0.4</td>\n",
       "      <td>1.0</td>\n",
       "    </tr>\n",
       "    <tr>\n",
       "      <th>3</th>\n",
       "      <td>0.0</td>\n",
       "      <td>0.0</td>\n",
       "      <td>0.4</td>\n",
       "      <td>0.0</td>\n",
       "    </tr>\n",
       "    <tr>\n",
       "      <th>4</th>\n",
       "      <td>1.0</td>\n",
       "      <td>1.0</td>\n",
       "      <td>0.4</td>\n",
       "      <td>1.0</td>\n",
       "    </tr>\n",
       "  </tbody>\n",
       "</table>\n",
       "</div>"
      ],
      "text/plain": [
       "   Do you have online shopping experience (y/n)  \\\n",
       "0                                           0.0   \n",
       "1                                           1.0   \n",
       "2                                           1.0   \n",
       "3                                           0.0   \n",
       "4                                           1.0   \n",
       "\n",
       "   Do you use products for grooming(y/n)  Monthly frequencies of shopping  \\\n",
       "0                                    1.0                              0.4   \n",
       "1                                    1.0                              0.4   \n",
       "2                                    1.0                              0.4   \n",
       "3                                    0.0                              0.4   \n",
       "4                                    1.0                              0.4   \n",
       "\n",
       "   Fashion Oriented  \n",
       "0               0.0  \n",
       "1               1.0  \n",
       "2               1.0  \n",
       "3               0.0  \n",
       "4               1.0  "
      ]
     },
     "execution_count": 558,
     "metadata": {},
     "output_type": "execute_result"
    }
   ],
   "source": [
    "x = dataset.values\n",
    "min_max_scaler = preprocessing.MinMaxScaler()\n",
    "x_scaled = min_max_scaler.fit_transform(x)\n",
    "dataset = pd.DataFrame(x_scaled,columns=cols)\n",
    "\n",
    "dataset.head()"
   ]
  },
  {
   "cell_type": "code",
   "execution_count": 559,
   "metadata": {},
   "outputs": [
    {
     "data": {
      "text/plain": [
       "<matplotlib.axes._subplots.AxesSubplot at 0x1b8e779ab38>"
      ]
     },
     "execution_count": 559,
     "metadata": {},
     "output_type": "execute_result"
    },
    {
     "data": {
      "image/png": "[encoded data removed]",
      "text/plain": [
       "<Figure size 432x288 with 1 Axes>"
      ]
     },
     "metadata": {},
     "output_type": "display_data"
    }
   ],
   "source": [
    "ax = dataset.plot.scatter(x='Do you have online shopping experience (y/n)', y='Do you use products for grooming(y/n)', color='DarkBlue', label='Group 1')\n",
    "\n",
    "dataset.plot.scatter(x='Monthly frequencies of shopping', y='Fashion Oriented', color='DarkGreen', label='Group 2', ax=ax)\n",
    "\n",
    "# dataset.plot.scatter(x='c', y='d', color='DarkGreen', label='Group 2', ax=ax2)"
   ]
  },
  {
   "cell_type": "code",
   "execution_count": 560,
   "metadata": {},
   "outputs": [],
   "source": [
    "train_dataset = dataset.sample(frac=0.9,random_state=0)\n",
    "test_dataset = dataset.drop(train_dataset.index)\n",
    "\n",
    "train_labels = train_dataset.pop(\"Fashion Oriented\")\n",
    "test_labels = test_dataset.pop(\"Fashion Oriented\")"
   ]
  },
  {
   "cell_type": "code",
   "execution_count": 561,
   "metadata": {},
   "outputs": [],
   "source": [
    "def build_model():\n",
    "    model = keras.Sequential([\n",
    "        layers.Dense(128, activation=tf.nn.relu, input_shape=[len(train_dataset.keys())]),\n",
    "        layers.Dense(64, activation=tf.nn.relu),\n",
    "        layers.Dense(1, activation=tf.nn.sigmoid), # binary class => Hardworking or lazy\n",
    "    ])\n",
    "    \n",
    "    model.compile(optimizer= tf.train.AdamOptimizer(),\n",
    "              loss='binary_crossentropy',\n",
    "              metrics=['accuracy'])\n",
    "    return model"
   ]
  },
  {
   "cell_type": "code",
   "execution_count": 562,
   "metadata": {},
   "outputs": [],
   "source": [
    "model = build_model()"
   ]
  },
  {
   "cell_type": "code",
   "execution_count": 563,
   "metadata": {},
   "outputs": [
    {
     "name": "stdout",
     "output_type": "stream",
     "text": [
      "_________________________________________________________________\n",
      "Layer (type)                 Output Shape              Param #   \n",
      "=================================================================\n",
      "dense_95 (Dense)             (None, 128)               512       \n",
      "_________________________________________________________________\n",
      "dense_96 (Dense)             (None, 64)                8256      \n",
      "_________________________________________________________________\n",
      "dense_97 (Dense)             (None, 1)                 65        \n",
      "=================================================================\n",
      "Total params: 8,833\n",
      "Trainable params: 8,833\n",
      "Non-trainable params: 0\n",
      "_________________________________________________________________\n"
     ]
    }
   ],
   "source": [
    "model.summary() # description of the model"
   ]
  },
  {
   "cell_type": "code",
   "execution_count": 564,
   "metadata": {},
   "outputs": [
    {
     "name": "stdout",
     "output_type": "stream",
     "text": [
      "Train on 83 samples, validate on 10 samples\n",
      "Epoch 1/10\n",
      "83/83 [==============================] - 1s 7ms/sample - loss: 0.6718 - acc: 0.6747 - val_loss: 0.6649 - val_acc: 0.7000\n",
      "Epoch 2/10\n",
      "83/83 [==============================] - 0s 289us/sample - loss: 0.6530 - acc: 0.7229 - val_loss: 0.6473 - val_acc: 0.8000\n",
      "Epoch 3/10\n",
      "83/83 [==============================] - 0s 241us/sample - loss: 0.6389 - acc: 0.7229 - val_loss: 0.6314 - val_acc: 0.8000\n",
      "Epoch 4/10\n",
      "83/83 [==============================] - 0s 289us/sample - loss: 0.6273 - acc: 0.8554 - val_loss: 0.6152 - val_acc: 0.8000\n",
      "Epoch 5/10\n",
      "83/83 [==============================] - 0s 288us/sample - loss: 0.6129 - acc: 0.8554 - val_loss: 0.6007 - val_acc: 0.9000\n",
      "Epoch 6/10\n",
      "83/83 [==============================] - 0s 289us/sample - loss: 0.5999 - acc: 0.8675 - val_loss: 0.5864 - val_acc: 0.9000\n",
      "Epoch 7/10\n",
      "83/83 [==============================] - 0s 337us/sample - loss: 0.5857 - acc: 0.8675 - val_loss: 0.5717 - val_acc: 0.9000\n",
      "Epoch 8/10\n",
      "83/83 [==============================] - 0s 337us/sample - loss: 0.5713 - acc: 0.8675 - val_loss: 0.5556 - val_acc: 0.9000\n",
      "Epoch 9/10\n",
      "83/83 [==============================] - 0s 385us/sample - loss: 0.5556 - acc: 0.8675 - val_loss: 0.5404 - val_acc: 0.9000\n",
      "Epoch 10/10\n",
      "83/83 [==============================] - 0s 289us/sample - loss: 0.5404 - acc: 0.8675 - val_loss: 0.5254 - val_acc: 0.9000\n"
     ]
    },
    {
     "data": {
      "text/plain": [
       "<tensorflow.python.keras.callbacks.History at 0x1b8e79e9128>"
      ]
     },
     "execution_count": 564,
     "metadata": {},
     "output_type": "execute_result"
    }
   ],
   "source": [
    "callbacks = myCallback()\n",
    "\n",
    "model.fit(train_dataset,train_labels,epochs=10,validation_split=0.1,callbacks=[callbacks])"
   ]
  },
  {
   "cell_type": "code",
   "execution_count": 565,
   "metadata": {},
   "outputs": [
    {
     "name": "stdout",
     "output_type": "stream",
     "text": [
      "10/10 [==============================] - 0s 399us/sample - loss: 0.5451 - acc: 0.8000\n",
      "Loss: 0.5451396703720093  Accuracy: 0.8\n"
     ]
    }
   ],
   "source": [
    "eval_model = model.evaluate(test_dataset,test_labels)\n",
    "\n",
    "print('Loss:',eval_model[0],' Accuracy:',eval_model[1])"
   ]
  },
  {
   "cell_type": "code",
   "execution_count": 566,
   "metadata": {},
   "outputs": [],
   "source": [
    "test_predictions = model.predict(test_dataset)\n",
    "test_predictions = (test_predictions > 0.5)"
   ]
  },
  {
   "cell_type": "code",
   "execution_count": 567,
   "metadata": {},
   "outputs": [
    {
     "name": "stdout",
     "output_type": "stream",
     "text": [
      "[[6 0]\n",
      " [2 2]]\n"
     ]
    }
   ],
   "source": [
    "from sklearn.metrics import confusion_matrix\n",
    "cm = confusion_matrix(test_labels, test_predictions)\n",
    "print(cm)\n",
    "\n",
    "# Confusion matrix for binary classification\n",
    "# [[TNeg FPos]\n",
    "#  [FNeg TPos]]"
   ]
  },
  {
   "cell_type": "code",
   "execution_count": null,
   "metadata": {},
   "outputs": [],
   "source": []
  }
 ],
 "metadata": {
  "kernelspec": {
   "display_name": "Python 3",
   "language": "python",
   "name": "python3"
  },
  "language_info": {
   "codemirror_mode": {
    "name": "ipython",
    "version": 3
   },
   "file_extension": ".py",
   "mimetype": "text/x-python",
   "name": "python",
   "nbconvert_exporter": "python",
   "pygments_lexer": "ipython3",
   "version": "3.6.5"
  }
 },
 "nbformat": 4,
 "nbformat_minor": 2
}
