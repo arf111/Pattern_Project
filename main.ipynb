{
 "cells": [
  {
   "cell_type": "code",
   "execution_count": 1,
   "metadata": {},
   "outputs": [
    {
     "name": "stderr",
     "output_type": "stream",
     "text": [
      "c:\\program files\\python36\\lib\\site-packages\\h5py\\__init__.py:36: FutureWarning: Conversion of the second argument of issubdtype from `float` to `np.floating` is deprecated. In future, it will be treated as `np.float64 == np.dtype(float).type`.\n",
      "  from ._conv import register_converters as _register_converters\n"
     ]
    }
   ],
   "source": [
    "import pandas as pd \n",
    "import matplotlib.pyplot as plt \n",
    "from sklearn import preprocessing\n",
    "import seaborn as sns\n",
    "\n",
    "import tensorflow as tf\n",
    "from tensorflow import keras\n",
    "from tensorflow.keras import layers"
   ]
  },
  {
   "cell_type": "code",
   "execution_count": 2,
   "metadata": {},
   "outputs": [],
   "source": [
    "class myCallback(keras.callbacks.Callback):\n",
    "    def on_epoch_end(self, epoch, logs={}):\n",
    "        if(logs.get('acc') > 0.98):\n",
    "            print(\"\\nReached 99% accuracy so cancelling training!\")\n",
    "            self.model.stop_training = True"
   ]
  },
  {
   "cell_type": "code",
   "execution_count": 3,
   "metadata": {},
   "outputs": [],
   "source": [
    "df = pd.read_csv(\"EXTENDED_1.csv\",encoding=\"latin-1\")\n",
    "\n",
    "# Extract features for fashion active peoples\n",
    "cols = [\"Do you have online shopping experience (y/n)\",\n",
    "              \"Do you use products for grooming(y/n)\",\n",
    "              \"Monthly frequencies of shopping\",\n",
    "              \"Fashion Oriented\"]\n",
    "\n",
    "dataset = df[cols].copy()"
   ]
  },
  {
   "cell_type": "code",
   "execution_count": 4,
   "metadata": {},
   "outputs": [],
   "source": [
    "dataset = dataset.dropna() # clear missing values rows"
   ]
  },
  {
   "cell_type": "code",
   "execution_count": 5,
   "metadata": {},
   "outputs": [
    {
     "data": {
      "text/plain": [
       "<matplotlib.axes._subplots.AxesSubplot at 0x24f319e7b00>"
      ]
     },
     "execution_count": 5,
     "metadata": {},
     "output_type": "execute_result"
    },
    {
     "data": {
      "image/png": "[encoded data removed]",
      "text/plain": [
       "<Figure size 432x288 with 1 Axes>"
      ]
     },
     "metadata": {},
     "output_type": "display_data"
    }
   ],
   "source": [
    "dataset.boxplot(by=['Monthly frequencies of shopping'], column=['Fashion Oriented'], grid= False)"
   ]
  },
  {
   "cell_type": "code",
   "execution_count": 6,
   "metadata": {},
   "outputs": [
    {
     "data": {
      "text/html": [
       "<div>\n",
       "<style scoped>\n",
       "    .dataframe tbody tr th:only-of-type {\n",
       "        vertical-align: middle;\n",
       "    }\n",
       "\n",
       "    .dataframe tbody tr th {\n",
       "        vertical-align: top;\n",
       "    }\n",
       "\n",
       "    .dataframe thead th {\n",
       "        text-align: right;\n",
       "    }\n",
       "</style>\n",
       "<table border=\"1\" class=\"dataframe\">\n",
       "  <thead>\n",
       "    <tr style=\"text-align: right;\">\n",
       "      <th></th>\n",
       "      <th>Do you have online shopping experience (y/n)</th>\n",
       "      <th>Do you use products for grooming(y/n)</th>\n",
       "      <th>Monthly frequencies of shopping</th>\n",
       "      <th>Fashion Oriented</th>\n",
       "    </tr>\n",
       "  </thead>\n",
       "  <tbody>\n",
       "    <tr>\n",
       "      <th>1</th>\n",
       "      <td>0.0</td>\n",
       "      <td>1.0</td>\n",
       "      <td>2.0</td>\n",
       "      <td>0.0</td>\n",
       "    </tr>\n",
       "    <tr>\n",
       "      <th>2</th>\n",
       "      <td>1.0</td>\n",
       "      <td>1.0</td>\n",
       "      <td>2.0</td>\n",
       "      <td>1.0</td>\n",
       "    </tr>\n",
       "    <tr>\n",
       "      <th>3</th>\n",
       "      <td>1.0</td>\n",
       "      <td>1.0</td>\n",
       "      <td>2.0</td>\n",
       "      <td>1.0</td>\n",
       "    </tr>\n",
       "    <tr>\n",
       "      <th>4</th>\n",
       "      <td>0.0</td>\n",
       "      <td>0.0</td>\n",
       "      <td>2.0</td>\n",
       "      <td>0.0</td>\n",
       "    </tr>\n",
       "    <tr>\n",
       "      <th>5</th>\n",
       "      <td>1.0</td>\n",
       "      <td>1.0</td>\n",
       "      <td>2.0</td>\n",
       "      <td>1.0</td>\n",
       "    </tr>\n",
       "  </tbody>\n",
       "</table>\n",
       "</div>"
      ],
      "text/plain": [
       "   Do you have online shopping experience (y/n)  \\\n",
       "1                                           0.0   \n",
       "2                                           1.0   \n",
       "3                                           1.0   \n",
       "4                                           0.0   \n",
       "5                                           1.0   \n",
       "\n",
       "   Do you use products for grooming(y/n)  Monthly frequencies of shopping  \\\n",
       "1                                    1.0                              2.0   \n",
       "2                                    1.0                              2.0   \n",
       "3                                    1.0                              2.0   \n",
       "4                                    0.0                              2.0   \n",
       "5                                    1.0                              2.0   \n",
       "\n",
       "   Fashion Oriented  \n",
       "1               0.0  \n",
       "2               1.0  \n",
       "3               1.0  \n",
       "4               0.0  \n",
       "5               1.0  "
      ]
     },
     "execution_count": 6,
     "metadata": {},
     "output_type": "execute_result"
    }
   ],
   "source": [
    "dataset['Do you have online shopping experience (y/n)'] = (dataset['Do you have online shopping experience (y/n)'] == 'Yes').astype(float)\n",
    "dataset['Do you use products for grooming(y/n)'] = (dataset['Do you use products for grooming(y/n)'] == 'Yes').astype(float)\n",
    "\n",
    "dataset.head()"
   ]
  },
  {
   "cell_type": "code",
   "execution_count": 7,
   "metadata": {},
   "outputs": [
    {
     "data": {
      "text/plain": [
       "<matplotlib.axes._subplots.AxesSubplot at 0x24f2c27ce48>"
      ]
     },
     "execution_count": 7,
     "metadata": {},
     "output_type": "execute_result"
    },
    {
     "data": {
      "image/png": "[encoded data removed]",
      "text/plain": [
       "<Figure size 432x288 with 1 Axes>"
      ]
     },
     "metadata": {},
     "output_type": "display_data"
    }
   ],
   "source": [
    "dataset.boxplot(by=['Do you have online shopping experience (y/n)'], column=['Monthly frequencies of shopping'], grid= False)"
   ]
  },
  {
   "cell_type": "code",
   "execution_count": 8,
   "metadata": {},
   "outputs": [
    {
     "data": {
      "text/html": [
       "<div>\n",
       "<style scoped>\n",
       "    .dataframe tbody tr th:only-of-type {\n",
       "        vertical-align: middle;\n",
       "    }\n",
       "\n",
       "    .dataframe tbody tr th {\n",
       "        vertical-align: top;\n",
       "    }\n",
       "\n",
       "    .dataframe thead th {\n",
       "        text-align: right;\n",
       "    }\n",
       "</style>\n",
       "<table border=\"1\" class=\"dataframe\">\n",
       "  <thead>\n",
       "    <tr style=\"text-align: right;\">\n",
       "      <th></th>\n",
       "      <th>Do you have online shopping experience (y/n)</th>\n",
       "      <th>Do you use products for grooming(y/n)</th>\n",
       "      <th>Monthly frequencies of shopping</th>\n",
       "      <th>Fashion Oriented</th>\n",
       "    </tr>\n",
       "  </thead>\n",
       "  <tbody>\n",
       "    <tr>\n",
       "      <th>0</th>\n",
       "      <td>0.0</td>\n",
       "      <td>1.0</td>\n",
       "      <td>0.4</td>\n",
       "      <td>0.0</td>\n",
       "    </tr>\n",
       "    <tr>\n",
       "      <th>1</th>\n",
       "      <td>1.0</td>\n",
       "      <td>1.0</td>\n",
       "      <td>0.4</td>\n",
       "      <td>1.0</td>\n",
       "    </tr>\n",
       "    <tr>\n",
       "      <th>2</th>\n",
       "      <td>1.0</td>\n",
       "      <td>1.0</td>\n",
       "      <td>0.4</td>\n",
       "      <td>1.0</td>\n",
       "    </tr>\n",
       "    <tr>\n",
       "      <th>3</th>\n",
       "      <td>0.0</td>\n",
       "      <td>0.0</td>\n",
       "      <td>0.4</td>\n",
       "      <td>0.0</td>\n",
       "    </tr>\n",
       "    <tr>\n",
       "      <th>4</th>\n",
       "      <td>1.0</td>\n",
       "      <td>1.0</td>\n",
       "      <td>0.4</td>\n",
       "      <td>1.0</td>\n",
       "    </tr>\n",
       "  </tbody>\n",
       "</table>\n",
       "</div>"
      ],
      "text/plain": [
       "   Do you have online shopping experience (y/n)  \\\n",
       "0                                           0.0   \n",
       "1                                           1.0   \n",
       "2                                           1.0   \n",
       "3                                           0.0   \n",
       "4                                           1.0   \n",
       "\n",
       "   Do you use products for grooming(y/n)  Monthly frequencies of shopping  \\\n",
       "0                                    1.0                              0.4   \n",
       "1                                    1.0                              0.4   \n",
       "2                                    1.0                              0.4   \n",
       "3                                    0.0                              0.4   \n",
       "4                                    1.0                              0.4   \n",
       "\n",
       "   Fashion Oriented  \n",
       "0               0.0  \n",
       "1               1.0  \n",
       "2               1.0  \n",
       "3               0.0  \n",
       "4               1.0  "
      ]
     },
     "execution_count": 8,
     "metadata": {},
     "output_type": "execute_result"
    }
   ],
   "source": [
    "x = dataset.values\n",
    "min_max_scaler = preprocessing.MinMaxScaler()\n",
    "x_scaled = min_max_scaler.fit_transform(x)\n",
    "dataset = pd.DataFrame(x_scaled,columns=cols)\n",
    "\n",
    "dataset.head()"
   ]
  },
  {
   "cell_type": "code",
   "execution_count": 9,
   "metadata": {},
   "outputs": [
    {
     "data": {
      "text/plain": [
       "<matplotlib.axes._subplots.AxesSubplot at 0x24f33babac8>"
      ]
     },
     "execution_count": 9,
     "metadata": {},
     "output_type": "execute_result"
    },
    {
     "data": {
      "image/png": "[encoded data removed]",
      "text/plain": [
       "<Figure size 432x288 with 1 Axes>"
      ]
     },
     "metadata": {},
     "output_type": "display_data"
    }
   ],
   "source": [
    "dataset.plot.scatter(x='Monthly frequencies of shopping', y='Fashion Oriented', color='DarkGreen', label='Group 2')\n",
    "\n",
    "# dataset.plot.scatter(x='c', y='d', color='DarkGreen', label='Group 2', ax=ax2)"
   ]
  },
  {
   "cell_type": "code",
   "execution_count": 10,
   "metadata": {},
   "outputs": [],
   "source": [
    "train_dataset = dataset.sample(frac=0.9,random_state=0)\n",
    "test_dataset = dataset.drop(train_dataset.index)\n",
    "\n",
    "train_labels = train_dataset.pop(\"Fashion Oriented\")\n",
    "test_labels = test_dataset.pop(\"Fashion Oriented\")"
   ]
  },
  {
   "cell_type": "code",
   "execution_count": 11,
   "metadata": {},
   "outputs": [],
   "source": [
    "def build_model():\n",
    "    model = keras.Sequential([\n",
    "        layers.Dense(128, activation=tf.nn.relu, input_shape=[len(train_dataset.keys())]),\n",
    "        layers.Dense(64, activation=tf.nn.relu),\n",
    "        layers.Dense(1, activation=tf.nn.sigmoid), # binary class => Hardworking or lazy\n",
    "    ])\n",
    "    \n",
    "    model.compile(optimizer= tf.train.AdamOptimizer(),\n",
    "              loss='binary_crossentropy',\n",
    "              metrics=['accuracy'])\n",
    "    return model"
   ]
  },
  {
   "cell_type": "code",
   "execution_count": 12,
   "metadata": {},
   "outputs": [
    {
     "name": "stdout",
     "output_type": "stream",
     "text": [
      "WARNING:tensorflow:From c:\\program files\\python36\\lib\\site-packages\\tensorflow\\python\\ops\\resource_variable_ops.py:435: colocate_with (from tensorflow.python.framework.ops) is deprecated and will be removed in a future version.\n",
      "Instructions for updating:\n",
      "Colocations handled automatically by placer.\n"
     ]
    }
   ],
   "source": [
    "model = build_model()"
   ]
  },
  {
   "cell_type": "code",
   "execution_count": 13,
   "metadata": {},
   "outputs": [
    {
     "name": "stdout",
     "output_type": "stream",
     "text": [
      "_________________________________________________________________\n",
      "Layer (type)                 Output Shape              Param #   \n",
      "=================================================================\n",
      "dense (Dense)                (None, 128)               512       \n",
      "_________________________________________________________________\n",
      "dense_1 (Dense)              (None, 64)                8256      \n",
      "_________________________________________________________________\n",
      "dense_2 (Dense)              (None, 1)                 65        \n",
      "=================================================================\n",
      "Total params: 8,833\n",
      "Trainable params: 8,833\n",
      "Non-trainable params: 0\n",
      "_________________________________________________________________\n"
     ]
    }
   ],
   "source": [
    "model.summary() # description of the model"
   ]
  },
  {
   "cell_type": "code",
   "execution_count": 14,
   "metadata": {},
   "outputs": [
    {
     "name": "stdout",
     "output_type": "stream",
     "text": [
      "Train on 83 samples, validate on 10 samples\n",
      "WARNING:tensorflow:From c:\\program files\\python36\\lib\\site-packages\\tensorflow\\python\\ops\\math_ops.py:3066: to_int32 (from tensorflow.python.ops.math_ops) is deprecated and will be removed in a future version.\n",
      "Instructions for updating:\n",
      "Use tf.cast instead.\n",
      "Epoch 1/10\n",
      "83/83 [==============================] - 0s 4ms/sample - loss: 0.6995 - acc: 0.4337 - val_loss: 0.6880 - val_acc: 0.6000\n",
      "Epoch 2/10\n",
      "83/83 [==============================] - 0s 144us/sample - loss: 0.6834 - acc: 0.6265 - val_loss: 0.6738 - val_acc: 0.9000\n",
      "Epoch 3/10\n",
      "83/83 [==============================] - 0s 228us/sample - loss: 0.6699 - acc: 0.7711 - val_loss: 0.6583 - val_acc: 0.9000\n",
      "Epoch 4/10\n",
      "83/83 [==============================] - 0s 240us/sample - loss: 0.6590 - acc: 0.7711 - val_loss: 0.6448 - val_acc: 0.9000\n",
      "Epoch 5/10\n",
      "83/83 [==============================] - 0s 204us/sample - loss: 0.6468 - acc: 0.7711 - val_loss: 0.6343 - val_acc: 0.9000\n",
      "Epoch 6/10\n",
      "83/83 [==============================] - 0s 156us/sample - loss: 0.6362 - acc: 0.7711 - val_loss: 0.6243 - val_acc: 0.9000\n",
      "Epoch 7/10\n",
      "83/83 [==============================] - 0s 156us/sample - loss: 0.6263 - acc: 0.7711 - val_loss: 0.6138 - val_acc: 0.9000\n",
      "Epoch 8/10\n",
      "83/83 [==============================] - 0s 204us/sample - loss: 0.6156 - acc: 0.7711 - val_loss: 0.6021 - val_acc: 0.9000\n",
      "Epoch 9/10\n",
      "83/83 [==============================] - 0s 168us/sample - loss: 0.6048 - acc: 0.8313 - val_loss: 0.5912 - val_acc: 0.9000\n",
      "Epoch 10/10\n",
      "83/83 [==============================] - 0s 144us/sample - loss: 0.5943 - acc: 0.8916 - val_loss: 0.5791 - val_acc: 0.9000\n"
     ]
    },
    {
     "data": {
      "text/plain": [
       "<tensorflow.python.keras.callbacks.History at 0x24f33e60908>"
      ]
     },
     "execution_count": 14,
     "metadata": {},
     "output_type": "execute_result"
    }
   ],
   "source": [
    "callbacks = myCallback()\n",
    "\n",
    "model.fit(train_dataset,train_labels,epochs=10,validation_split=0.1,callbacks=[callbacks])"
   ]
  },
  {
   "cell_type": "code",
   "execution_count": 15,
   "metadata": {},
   "outputs": [
    {
     "name": "stdout",
     "output_type": "stream",
     "text": [
      "10/10 [==============================] - 0s 100us/sample - loss: 0.6024 - acc: 0.8000\n",
      "Loss: 0.6023819446563721  Accuracy: 0.8\n"
     ]
    }
   ],
   "source": [
    "eval_model = model.evaluate(test_dataset,test_labels)\n",
    "\n",
    "print('Loss:',eval_model[0],' Accuracy:',eval_model[1])"
   ]
  },
  {
   "cell_type": "code",
   "execution_count": 16,
   "metadata": {},
   "outputs": [],
   "source": [
    "test_predictions = model.predict(test_dataset)\n",
    "test_predictions = (test_predictions > 0.5)"
   ]
  },
  {
   "cell_type": "code",
   "execution_count": 17,
   "metadata": {},
   "outputs": [
    {
     "name": "stdout",
     "output_type": "stream",
     "text": [
      "[[6 0]\n",
      " [2 2]]\n"
     ]
    }
   ],
   "source": [
    "from sklearn.metrics import confusion_matrix\n",
    "cm = confusion_matrix(test_labels, test_predictions)\n",
    "print(cm)\n",
    "\n",
    "# Confusion matrix for binary classification\n",
    "# [[TNeg FPos]\n",
    "#  [FNeg TPos]]"
   ]
  },
  {
   "cell_type": "code",
   "execution_count": 18,
   "metadata": {},
   "outputs": [
    {
     "data": {
      "text/html": [
       "<div>\n",
       "<style scoped>\n",
       "    .dataframe tbody tr th:only-of-type {\n",
       "        vertical-align: middle;\n",
       "    }\n",
       "\n",
       "    .dataframe tbody tr th {\n",
       "        vertical-align: top;\n",
       "    }\n",
       "\n",
       "    .dataframe thead th {\n",
       "        text-align: right;\n",
       "    }\n",
       "</style>\n",
       "<table border=\"1\" class=\"dataframe\">\n",
       "  <thead>\n",
       "    <tr style=\"text-align: right;\">\n",
       "      <th></th>\n",
       "      <th>Favorite food names</th>\n",
       "      <th>Expected food price of that favorite food</th>\n",
       "      <th>Travel budget</th>\n",
       "      <th>Which cloths do you choose to wear</th>\n",
       "      <th>Fashion Oriented</th>\n",
       "    </tr>\n",
       "  </thead>\n",
       "  <tbody>\n",
       "    <tr>\n",
       "      <th>1</th>\n",
       "      <td>Fast food</td>\n",
       "      <td>400.0</td>\n",
       "      <td>6000.0</td>\n",
       "      <td>Jeans &amp; Shirt</td>\n",
       "      <td>0.0</td>\n",
       "    </tr>\n",
       "    <tr>\n",
       "      <th>2</th>\n",
       "      <td>Fast food</td>\n",
       "      <td>200.0</td>\n",
       "      <td>1000.0</td>\n",
       "      <td>urban</td>\n",
       "      <td>1.0</td>\n",
       "    </tr>\n",
       "    <tr>\n",
       "      <th>3</th>\n",
       "      <td>Regular food</td>\n",
       "      <td>150.0</td>\n",
       "      <td>5000.0</td>\n",
       "      <td>Jeans &amp; Shirt</td>\n",
       "      <td>1.0</td>\n",
       "    </tr>\n",
       "    <tr>\n",
       "      <th>4</th>\n",
       "      <td>Regular food</td>\n",
       "      <td>200.0</td>\n",
       "      <td>6000.0</td>\n",
       "      <td>Jeans &amp; Shirt</td>\n",
       "      <td>0.0</td>\n",
       "    </tr>\n",
       "    <tr>\n",
       "      <th>5</th>\n",
       "      <td>Fast food</td>\n",
       "      <td>1500.0</td>\n",
       "      <td>2500.0</td>\n",
       "      <td>Jeans &amp; Shirt</td>\n",
       "      <td>1.0</td>\n",
       "    </tr>\n",
       "  </tbody>\n",
       "</table>\n",
       "</div>"
      ],
      "text/plain": [
       "  Favorite food names  Expected food price of that favorite food  \\\n",
       "1           Fast food                                      400.0   \n",
       "2           Fast food                                      200.0   \n",
       "3        Regular food                                      150.0   \n",
       "4        Regular food                                      200.0   \n",
       "5           Fast food                                     1500.0   \n",
       "\n",
       "   Travel budget Which cloths do you choose to wear  Fashion Oriented  \n",
       "1         6000.0                      Jeans & Shirt               0.0  \n",
       "2         1000.0                              urban               1.0  \n",
       "3         5000.0                      Jeans & Shirt               1.0  \n",
       "4         6000.0                      Jeans & Shirt               0.0  \n",
       "5         2500.0                      Jeans & Shirt               1.0  "
      ]
     },
     "execution_count": 18,
     "metadata": {},
     "output_type": "execute_result"
    }
   ],
   "source": [
    "cols = ['Favorite food names','Expected food price of that favorite food','Travel budget','Which cloths do you choose to wear','Fashion Oriented']\n",
    "datasetToEval = df[cols]\n",
    "datasetToEval = datasetToEval.dropna()        \n",
    "datasetToEval.head()"
   ]
  },
  {
   "cell_type": "code",
   "execution_count": 21,
   "metadata": {},
   "outputs": [
    {
     "data": {
      "image/png": "[encoded data removed]",
      "text/plain": [
       "<Figure size 432x288 with 1 Axes>"
      ]
     },
     "metadata": {},
     "output_type": "display_data"
    },
    {
     "data": {
      "image/png": "[encoded data removed]",
      "text/plain": [
       "<Figure size 432x288 with 1 Axes>"
      ]
     },
     "metadata": {},
     "output_type": "display_data"
    },
    {
     "data": {
      "image/png": "[encoded data removed]",
      "text/plain": [
       "<Figure size 432x288 with 1 Axes>"
      ]
     },
     "metadata": {},
     "output_type": "display_data"
    }
   ],
   "source": [
    "# Correlation\n",
    "datasetToEval.boxplot(by=['Fashion Oriented'], column=['Expected food price of that favorite food'], grid= False)\n",
    "\n",
    "# datasetToEval.plot.scatter(x='Fashion Oriented', y='Expected food price of that favorite food', color='DarkBlue', label='Group 1')\n",
    "\n",
    "datasetToEval.plot.scatter(x='Fashion Oriented', y='Travel budget', color='DarkGreen', label='Travel budget of fashion oriented')\n",
    "\n",
    "# datasetToEval.plot.scatter(x='Fashion Oriented', y='Wake up time?', rot=0)\n",
    "\n",
    "lis = [0,0,0,0,0,0]\n",
    "checkCol = ['Which cloths do you choose to wear','Fashion Oriented']\n",
    "\n",
    "for i, x in datasetToEval.iterrows():\n",
    "    if datasetToEval.loc[i, checkCol[0]] == \"urban\" and datasetToEval.loc[i, checkCol[1]] == 1.0:\n",
    "        lis[0] += 1\n",
    "    elif datasetToEval.loc[i, checkCol[0]] == \"urban\" and datasetToEval.loc[i, checkCol[1]] == 0.0:\n",
    "        lis[1] += 1    \n",
    "    elif datasetToEval.loc[i, checkCol[0]] == \"linen shirt and trousers\" and datasetToEval.loc[i, checkCol[1]] == 1.0:\n",
    "        lis[2] += 1\n",
    "    elif datasetToEval.loc[i, checkCol[0]] == \"linen shirt and trousers\" and datasetToEval.loc[i, checkCol[1]] == 0.0:\n",
    "        lis[3] += 1\n",
    "    elif datasetToEval.loc[i, checkCol[0]] == \"Jeans & Shirt\" and datasetToEval.loc[i, checkCol[1]] == 1.0:\n",
    "        lis[4] += 1\n",
    "    elif datasetToEval.loc[i, checkCol[0]] == \"Jeans & Shirt\" and datasetToEval.loc[i, checkCol[1]] == 0.0:\n",
    "        lis[5] += 1\n",
    "\n",
    "labels = 'urban(Fasion Oriented)', 'urban(Not Fashion Oriented)', 'linen shirt and trousers(Fasion Oriented)', 'linen shirt and trousers(Not Fasion Oriented)', 'Jeans & Shirt(Fashion Oriented)', 'Jeans & Shirt(Not Fashion Oriented)'\n",
    "\n",
    "sizes = [lis[0], lis[1], lis[2], lis[3], lis[4], lis[5]]\n",
    "\n",
    "explode = (0, 0.1, 0, 0,0,0)  # only \"explode\" the 2nd slice (i.e. 'Hogs')\n",
    "\n",
    "fig1, ax1 = plt.subplots()\n",
    "ax1.pie(sizes, explode=explode, labels=labels, autopct='%1.1f%%',\n",
    "        shadow=True, startangle=90)\n",
    "ax1.axis('equal')  # Equal aspect ratio ensures that pie is drawn as a circle.\n",
    "\n",
    "plt.show()"
   ]
  },
  {
   "cell_type": "code",
   "execution_count": null,
   "metadata": {},
   "outputs": [],
   "source": []
  }
 ],
 "metadata": {
  "kernelspec": {
   "display_name": "Python 3",
   "language": "python",
   "name": "python3"
  },
  "language_info": {
   "codemirror_mode": {
    "name": "ipython",
    "version": 3
   },
   "file_extension": ".py",
   "mimetype": "text/x-python",
   "name": "python",
   "nbconvert_exporter": "python",
   "pygments_lexer": "ipython3",
   "version": "3.6.5"
  }
 },
 "nbformat": 4,
 "nbformat_minor": 2
}
