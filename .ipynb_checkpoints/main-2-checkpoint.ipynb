{
 "cells": [
  {
   "cell_type": "code",
   "execution_count": 4,
   "metadata": {},
   "outputs": [],
   "source": [
    "import pandas as pd \n",
    "import matplotlib.pyplot as plt \n",
    "from sklearn import preprocessing\n",
    "import seaborn as sns\n",
    "\n",
    "import tensorflow as tf\n",
    "from tensorflow import keras\n",
    "from tensorflow.keras import layers"
   ]
  },
  {
   "cell_type": "code",
   "execution_count": 5,
   "metadata": {},
   "outputs": [],
   "source": [
    "class myCallback(keras.callbacks.Callback):\n",
    "    def on_epoch_end(self, epoch, logs={}):\n",
    "        if(logs.get('acc') > 0.98):\n",
    "            print(\"\\nReached 99% accuracy so cancelling training!\")\n",
    "            self.model.stop_training = True"
   ]
  },
  {
   "cell_type": "code",
   "execution_count": 6,
   "metadata": {},
   "outputs": [],
   "source": [
    "df = pd.read_csv(\"EXTENDED_1.csv\",encoding=\"latin-1\")\n",
    "\n",
    "cols = [\"Favorite food names\",\n",
    "              \"Sleep duration\", \n",
    "              \"Do you start your day by planning(y/n)\",\n",
    "              \"Hardworking\"]\n",
    "\n",
    "dataset = df[cols].copy()"
   ]
  },
  {
   "cell_type": "code",
   "execution_count": 7,
   "metadata": {},
   "outputs": [],
   "source": [
    "dataset = dataset.dropna() # clear missing values rows"
   ]
  },
  {
   "cell_type": "code",
   "execution_count": 9,
   "metadata": {},
   "outputs": [
    {
     "data": {
      "text/html": [
       "<div>\n",
       "<style scoped>\n",
       "    .dataframe tbody tr th:only-of-type {\n",
       "        vertical-align: middle;\n",
       "    }\n",
       "\n",
       "    .dataframe tbody tr th {\n",
       "        vertical-align: top;\n",
       "    }\n",
       "\n",
       "    .dataframe thead th {\n",
       "        text-align: right;\n",
       "    }\n",
       "</style>\n",
       "<table border=\"1\" class=\"dataframe\">\n",
       "  <thead>\n",
       "    <tr style=\"text-align: right;\">\n",
       "      <th></th>\n",
       "      <th>Favorite food names</th>\n",
       "      <th>Sleep duration</th>\n",
       "      <th>Do you start your day by planning(y/n)</th>\n",
       "      <th>Hardworking</th>\n",
       "    </tr>\n",
       "  </thead>\n",
       "  <tbody>\n",
       "    <tr>\n",
       "      <th>1</th>\n",
       "      <td>1.0</td>\n",
       "      <td>8.0</td>\n",
       "      <td>0.0</td>\n",
       "      <td>0.0</td>\n",
       "    </tr>\n",
       "    <tr>\n",
       "      <th>2</th>\n",
       "      <td>1.0</td>\n",
       "      <td>8.0</td>\n",
       "      <td>1.0</td>\n",
       "      <td>1.0</td>\n",
       "    </tr>\n",
       "    <tr>\n",
       "      <th>3</th>\n",
       "      <td>0.0</td>\n",
       "      <td>6.0</td>\n",
       "      <td>1.0</td>\n",
       "      <td>1.0</td>\n",
       "    </tr>\n",
       "    <tr>\n",
       "      <th>4</th>\n",
       "      <td>0.0</td>\n",
       "      <td>8.0</td>\n",
       "      <td>0.0</td>\n",
       "      <td>0.0</td>\n",
       "    </tr>\n",
       "    <tr>\n",
       "      <th>5</th>\n",
       "      <td>1.0</td>\n",
       "      <td>6.0</td>\n",
       "      <td>0.0</td>\n",
       "      <td>0.0</td>\n",
       "    </tr>\n",
       "  </tbody>\n",
       "</table>\n",
       "</div>"
      ],
      "text/plain": [
       "   Favorite food names  Sleep duration  \\\n",
       "1                  1.0             8.0   \n",
       "2                  1.0             8.0   \n",
       "3                  0.0             6.0   \n",
       "4                  0.0             8.0   \n",
       "5                  1.0             6.0   \n",
       "\n",
       "   Do you start your day by planning(y/n)  Hardworking  \n",
       "1                                     0.0          0.0  \n",
       "2                                     1.0          1.0  \n",
       "3                                     1.0          1.0  \n",
       "4                                     0.0          0.0  \n",
       "5                                     0.0          0.0  "
      ]
     },
     "execution_count": 9,
     "metadata": {},
     "output_type": "execute_result"
    }
   ],
   "source": [
    "dataset['Favorite food names'] = (dataset['Favorite food names'] == 'Fast food').astype(float)\n",
    "dataset['Do you start your day by planning(y/n)'] = (dataset['Do you start your day by planning(y/n)'] == 'Yes').astype(float)\n",
    "\n",
    "dataset.head()"
   ]
  },
  {
   "cell_type": "code",
   "execution_count": 10,
   "metadata": {},
   "outputs": [
    {
     "data": {
      "text/html": [
       "<div>\n",
       "<style scoped>\n",
       "    .dataframe tbody tr th:only-of-type {\n",
       "        vertical-align: middle;\n",
       "    }\n",
       "\n",
       "    .dataframe tbody tr th {\n",
       "        vertical-align: top;\n",
       "    }\n",
       "\n",
       "    .dataframe thead th {\n",
       "        text-align: right;\n",
       "    }\n",
       "</style>\n",
       "<table border=\"1\" class=\"dataframe\">\n",
       "  <thead>\n",
       "    <tr style=\"text-align: right;\">\n",
       "      <th></th>\n",
       "      <th>Favorite food names</th>\n",
       "      <th>Sleep duration</th>\n",
       "      <th>Do you start your day by planning(y/n)</th>\n",
       "      <th>Hardworking</th>\n",
       "    </tr>\n",
       "  </thead>\n",
       "  <tbody>\n",
       "    <tr>\n",
       "      <th>0</th>\n",
       "      <td>1.0</td>\n",
       "      <td>0.6</td>\n",
       "      <td>0.0</td>\n",
       "      <td>0.0</td>\n",
       "    </tr>\n",
       "    <tr>\n",
       "      <th>1</th>\n",
       "      <td>1.0</td>\n",
       "      <td>0.6</td>\n",
       "      <td>1.0</td>\n",
       "      <td>1.0</td>\n",
       "    </tr>\n",
       "    <tr>\n",
       "      <th>2</th>\n",
       "      <td>0.0</td>\n",
       "      <td>0.2</td>\n",
       "      <td>1.0</td>\n",
       "      <td>1.0</td>\n",
       "    </tr>\n",
       "    <tr>\n",
       "      <th>3</th>\n",
       "      <td>0.0</td>\n",
       "      <td>0.6</td>\n",
       "      <td>0.0</td>\n",
       "      <td>0.0</td>\n",
       "    </tr>\n",
       "    <tr>\n",
       "      <th>4</th>\n",
       "      <td>1.0</td>\n",
       "      <td>0.2</td>\n",
       "      <td>0.0</td>\n",
       "      <td>0.0</td>\n",
       "    </tr>\n",
       "  </tbody>\n",
       "</table>\n",
       "</div>"
      ],
      "text/plain": [
       "   Favorite food names  Sleep duration  \\\n",
       "0                  1.0             0.6   \n",
       "1                  1.0             0.6   \n",
       "2                  0.0             0.2   \n",
       "3                  0.0             0.6   \n",
       "4                  1.0             0.2   \n",
       "\n",
       "   Do you start your day by planning(y/n)  Hardworking  \n",
       "0                                     0.0          0.0  \n",
       "1                                     1.0          1.0  \n",
       "2                                     1.0          1.0  \n",
       "3                                     0.0          0.0  \n",
       "4                                     0.0          0.0  "
      ]
     },
     "execution_count": 10,
     "metadata": {},
     "output_type": "execute_result"
    }
   ],
   "source": [
    "x = dataset.values\n",
    "min_max_scaler = preprocessing.MinMaxScaler()\n",
    "x_scaled = min_max_scaler.fit_transform(x)\n",
    "dataset = pd.DataFrame(x_scaled,columns=cols)\n",
    "\n",
    "dataset.head()"
   ]
  },
  {
   "cell_type": "code",
   "execution_count": 11,
   "metadata": {},
   "outputs": [
    {
     "data": {
      "text/plain": [
       "<matplotlib.axes._subplots.AxesSubplot at 0x256cf7f0780>"
      ]
     },
     "execution_count": 11,
     "metadata": {},
     "output_type": "execute_result"
    },
    {
     "data": {
      "image/png": "[encoded data removed]",
      "text/plain": [
       "<Figure size 432x288 with 1 Axes>"
      ]
     },
     "metadata": {},
     "output_type": "display_data"
    },
    {
     "data": {
      "image/png": "[encoded data removed]",
      "text/plain": [
       "<Figure size 432x288 with 1 Axes>"
      ]
     },
     "metadata": {},
     "output_type": "display_data"
    }
   ],
   "source": [
    "ax = dataset.plot.scatter(x='Favorite food names', y='Sleep duration', color='DarkBlue', label='Group 1')\n",
    "\n",
    "dataset.plot.scatter(x='Do you start your day by planning(y/n)', y='Hardworking', color='DarkGreen', label='Group 2')\n",
    "\n",
    "# dataset.plot.scatter(x='c', y='d', color='DarkGreen', label='Group 2', ax=ax2)"
   ]
  },
  {
   "cell_type": "code",
   "execution_count": 12,
   "metadata": {},
   "outputs": [],
   "source": [
    "train_dataset = dataset.sample(frac=0.9,random_state=0)\n",
    "test_dataset = dataset.drop(train_dataset.index)\n",
    "\n",
    "train_labels = train_dataset.pop(\"Hardworking\")\n",
    "test_labels = test_dataset.pop(\"Hardworking\")"
   ]
  },
  {
   "cell_type": "code",
   "execution_count": 13,
   "metadata": {},
   "outputs": [],
   "source": [
    "def build_model():\n",
    "    model = keras.Sequential([\n",
    "        layers.Dense(128, activation=tf.nn.relu, input_shape=[len(train_dataset.keys())]),\n",
    "        layers.Dense(64, activation=tf.nn.relu),\n",
    "        layers.Dense(1, activation=tf.nn.sigmoid), # binary class => Hardworking or lazy\n",
    "    ])\n",
    "    \n",
    "    model.compile(optimizer= tf.train.AdamOptimizer(),\n",
    "              loss='binary_crossentropy',\n",
    "              metrics=['accuracy'])\n",
    "    return model"
   ]
  },
  {
   "cell_type": "code",
   "execution_count": 14,
   "metadata": {},
   "outputs": [
    {
     "name": "stdout",
     "output_type": "stream",
     "text": [
      "WARNING:tensorflow:From c:\\program files\\python36\\lib\\site-packages\\tensorflow\\python\\ops\\resource_variable_ops.py:435: colocate_with (from tensorflow.python.framework.ops) is deprecated and will be removed in a future version.\n",
      "Instructions for updating:\n",
      "Colocations handled automatically by placer.\n"
     ]
    }
   ],
   "source": [
    "model = build_model()"
   ]
  },
  {
   "cell_type": "code",
   "execution_count": 15,
   "metadata": {},
   "outputs": [
    {
     "name": "stdout",
     "output_type": "stream",
     "text": [
      "_________________________________________________________________\n",
      "Layer (type)                 Output Shape              Param #   \n",
      "=================================================================\n",
      "dense (Dense)                (None, 128)               512       \n",
      "_________________________________________________________________\n",
      "dense_1 (Dense)              (None, 64)                8256      \n",
      "_________________________________________________________________\n",
      "dense_2 (Dense)              (None, 1)                 65        \n",
      "=================================================================\n",
      "Total params: 8,833\n",
      "Trainable params: 8,833\n",
      "Non-trainable params: 0\n",
      "_________________________________________________________________\n"
     ]
    }
   ],
   "source": [
    "model.summary() # description of the model"
   ]
  },
  {
   "cell_type": "code",
   "execution_count": 16,
   "metadata": {},
   "outputs": [
    {
     "name": "stdout",
     "output_type": "stream",
     "text": [
      "Train on 83 samples, validate on 10 samples\n",
      "WARNING:tensorflow:From c:\\program files\\python36\\lib\\site-packages\\tensorflow\\python\\ops\\math_ops.py:3066: to_int32 (from tensorflow.python.ops.math_ops) is deprecated and will be removed in a future version.\n",
      "Instructions for updating:\n",
      "Use tf.cast instead.\n",
      "Epoch 1/20\n",
      "83/83 [==============================] - 0s 3ms/sample - loss: 0.7051 - acc: 0.4940 - val_loss: 0.6711 - val_acc: 0.6000\n",
      "Epoch 2/20\n",
      "83/83 [==============================] - 0s 156us/sample - loss: 0.6825 - acc: 0.5181 - val_loss: 0.6603 - val_acc: 0.8000\n",
      "Epoch 3/20\n",
      "83/83 [==============================] - 0s 168us/sample - loss: 0.6655 - acc: 0.7831 - val_loss: 0.6494 - val_acc: 0.8000\n",
      "Epoch 4/20\n",
      "83/83 [==============================] - 0s 144us/sample - loss: 0.6489 - acc: 0.7831 - val_loss: 0.6377 - val_acc: 0.8000\n",
      "Epoch 5/20\n",
      "83/83 [==============================] - 0s 156us/sample - loss: 0.6364 - acc: 0.7952 - val_loss: 0.6265 - val_acc: 0.9000\n",
      "Epoch 6/20\n",
      "83/83 [==============================] - 0s 156us/sample - loss: 0.6224 - acc: 0.7952 - val_loss: 0.6133 - val_acc: 0.9000\n",
      "Epoch 7/20\n",
      "83/83 [==============================] - 0s 192us/sample - loss: 0.6099 - acc: 0.7952 - val_loss: 0.6019 - val_acc: 0.9000\n",
      "Epoch 8/20\n",
      "83/83 [==============================] - 0s 192us/sample - loss: 0.5986 - acc: 0.7952 - val_loss: 0.5924 - val_acc: 0.9000\n",
      "Epoch 9/20\n",
      "83/83 [==============================] - 0s 132us/sample - loss: 0.5865 - acc: 0.7952 - val_loss: 0.5812 - val_acc: 0.9000\n",
      "Epoch 10/20\n",
      "83/83 [==============================] - 0s 168us/sample - loss: 0.5752 - acc: 0.7108 - val_loss: 0.5713 - val_acc: 0.7000\n",
      "Epoch 11/20\n",
      "83/83 [==============================] - 0s 120us/sample - loss: 0.5638 - acc: 0.6867 - val_loss: 0.5605 - val_acc: 0.7000\n",
      "Epoch 12/20\n",
      "83/83 [==============================] - 0s 156us/sample - loss: 0.5524 - acc: 0.6867 - val_loss: 0.5508 - val_acc: 0.7000\n",
      "Epoch 13/20\n",
      "83/83 [==============================] - 0s 216us/sample - loss: 0.5411 - acc: 0.6867 - val_loss: 0.5412 - val_acc: 0.7000\n",
      "Epoch 14/20\n",
      "83/83 [==============================] - 0s 228us/sample - loss: 0.5313 - acc: 0.6867 - val_loss: 0.5302 - val_acc: 0.7000\n",
      "Epoch 15/20\n",
      "83/83 [==============================] - 0s 180us/sample - loss: 0.5197 - acc: 0.6867 - val_loss: 0.5198 - val_acc: 0.7000\n",
      "Epoch 16/20\n",
      "83/83 [==============================] - 0s 228us/sample - loss: 0.5109 - acc: 0.6867 - val_loss: 0.5099 - val_acc: 0.7000\n",
      "Epoch 17/20\n",
      "83/83 [==============================] - 0s 192us/sample - loss: 0.4998 - acc: 0.6867 - val_loss: 0.5021 - val_acc: 0.8000\n",
      "Epoch 18/20\n",
      "83/83 [==============================] - 0s 216us/sample - loss: 0.4894 - acc: 0.7470 - val_loss: 0.4916 - val_acc: 0.8000\n",
      "Epoch 19/20\n",
      "83/83 [==============================] - 0s 144us/sample - loss: 0.4798 - acc: 0.7470 - val_loss: 0.4823 - val_acc: 0.8000\n",
      "Epoch 20/20\n",
      "83/83 [==============================] - 0s 192us/sample - loss: 0.4731 - acc: 0.7470 - val_loss: 0.4735 - val_acc: 0.8000\n"
     ]
    }
   ],
   "source": [
    "callbacks = myCallback()\n",
    "\n",
    "history = model.fit(train_dataset,train_labels,epochs=20,validation_split=0.1,callbacks=[callbacks])"
   ]
  },
  {
   "cell_type": "code",
   "execution_count": 17,
   "metadata": {},
   "outputs": [
    {
     "name": "stdout",
     "output_type": "stream",
     "text": [
      "10/10 [==============================] - 0s 200us/sample - loss: 0.4590 - acc: 0.8000\n",
      "Loss: 0.45900893211364746  Accuracy: 0.8\n"
     ]
    }
   ],
   "source": [
    "eval_model = model.evaluate(test_dataset,test_labels)\n",
    "\n",
    "print('Loss:',eval_model[0],' Accuracy:',eval_model[1])"
   ]
  },
  {
   "cell_type": "code",
   "execution_count": 18,
   "metadata": {},
   "outputs": [],
   "source": [
    "test_predictions = model.predict(test_dataset)\n",
    "test_predictions = (test_predictions > 0.5)"
   ]
  },
  {
   "cell_type": "code",
   "execution_count": 19,
   "metadata": {},
   "outputs": [
    {
     "name": "stdout",
     "output_type": "stream",
     "text": [
      "[[7 0]\n",
      " [2 1]]\n"
     ]
    }
   ],
   "source": [
    "from sklearn.metrics import confusion_matrix\n",
    "cm = confusion_matrix(test_labels, test_predictions)\n",
    "print(cm)\n",
    "\n",
    "# Confusion matrix for binary classification\n",
    "# [[TNeg FPos]\n",
    "#  [FNeg TPos]]"
   ]
  },
  {
   "cell_type": "code",
   "execution_count": 29,
   "metadata": {},
   "outputs": [
    {
     "data": {
      "text/html": [
       "<div>\n",
       "<style scoped>\n",
       "    .dataframe tbody tr th:only-of-type {\n",
       "        vertical-align: middle;\n",
       "    }\n",
       "\n",
       "    .dataframe tbody tr th {\n",
       "        vertical-align: top;\n",
       "    }\n",
       "\n",
       "    .dataframe thead th {\n",
       "        text-align: right;\n",
       "    }\n",
       "</style>\n",
       "<table border=\"1\" class=\"dataframe\">\n",
       "  <thead>\n",
       "    <tr style=\"text-align: right;\">\n",
       "      <th></th>\n",
       "      <th>Sleep duration</th>\n",
       "      <th>CGPA</th>\n",
       "      <th>Number of programming hours spent per day</th>\n",
       "    </tr>\n",
       "  </thead>\n",
       "  <tbody>\n",
       "    <tr>\n",
       "      <th>1</th>\n",
       "      <td>8.0</td>\n",
       "      <td>3.48</td>\n",
       "      <td>3.0</td>\n",
       "    </tr>\n",
       "    <tr>\n",
       "      <th>2</th>\n",
       "      <td>8.0</td>\n",
       "      <td>2.90</td>\n",
       "      <td>0.3</td>\n",
       "    </tr>\n",
       "    <tr>\n",
       "      <th>3</th>\n",
       "      <td>6.0</td>\n",
       "      <td>3.33</td>\n",
       "      <td>1.0</td>\n",
       "    </tr>\n",
       "    <tr>\n",
       "      <th>4</th>\n",
       "      <td>8.0</td>\n",
       "      <td>3.72</td>\n",
       "      <td>0.5</td>\n",
       "    </tr>\n",
       "    <tr>\n",
       "      <th>5</th>\n",
       "      <td>6.0</td>\n",
       "      <td>3.43</td>\n",
       "      <td>8.0</td>\n",
       "    </tr>\n",
       "  </tbody>\n",
       "</table>\n",
       "</div>"
      ],
      "text/plain": [
       "   Sleep duration  CGPA  Number of programming hours spent per day\n",
       "1             8.0  3.48                                        3.0\n",
       "2             8.0  2.90                                        0.3\n",
       "3             6.0  3.33                                        1.0\n",
       "4             8.0  3.72                                        0.5\n",
       "5             6.0  3.43                                        8.0"
      ]
     },
     "execution_count": 29,
     "metadata": {},
     "output_type": "execute_result"
    }
   ],
   "source": [
    "cols = ['Sleep duration','CGPA','Number of programming hours spent per day']\n",
    "datasetToEval = df[cols]\n",
    "datasetToEval = datasetToEval.dropna()\n",
    "\n",
    "datasetToEval.head()"
   ]
  },
  {
   "cell_type": "code",
   "execution_count": 30,
   "metadata": {},
   "outputs": [
    {
     "data": {
      "text/plain": [
       "<matplotlib.axes._subplots.AxesSubplot at 0x256d17aa0f0>"
      ]
     },
     "execution_count": 30,
     "metadata": {},
     "output_type": "execute_result"
    },
    {
     "data": {
      "image/png": "[encoded data removed]",
      "text/plain": [
       "<Figure size 432x288 with 1 Axes>"
      ]
     },
     "metadata": {},
     "output_type": "display_data"
    },
    {
     "data": {
      "image/png": "[encoded data removed]",
      "text/plain": [
       "<Figure size 432x288 with 1 Axes>"
      ]
     },
     "metadata": {},
     "output_type": "display_data"
    }
   ],
   "source": [
    "datasetToEval.boxplot(by='Sleep duration', column=['CGPA'], grid= False)\n",
    "datasetToEval.plot.scatter(x='Sleep duration', y='Number of programming hours spent per day', color='DarkBlue', label='Group 1')"
   ]
  },
  {
   "cell_type": "code",
   "execution_count": null,
   "metadata": {},
   "outputs": [],
   "source": []
  }
 ],
 "metadata": {
  "kernelspec": {
   "display_name": "Python 3",
   "language": "python",
   "name": "python3"
  },
  "language_info": {
   "codemirror_mode": {
    "name": "ipython",
    "version": 3
   },
   "file_extension": ".py",
   "mimetype": "text/x-python",
   "name": "python",
   "nbconvert_exporter": "python",
   "pygments_lexer": "ipython3",
   "version": "3.6.5"
  }
 },
 "nbformat": 4,
 "nbformat_minor": 2
}
