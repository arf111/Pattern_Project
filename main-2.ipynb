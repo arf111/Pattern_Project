{
 "cells": [
  {
   "cell_type": "code",
   "execution_count": 294,
   "metadata": {},
   "outputs": [],
   "source": [
    "import pandas as pd \n",
    "import matplotlib.pyplot as plt \n",
    "from sklearn import preprocessing\n",
    "import seaborn as sns\n",
    "\n",
    "import tensorflow as tf\n",
    "from tensorflow import keras\n",
    "from tensorflow.keras import layers"
   ]
  },
  {
   "cell_type": "code",
   "execution_count": 295,
   "metadata": {},
   "outputs": [],
   "source": [
    "class myCallback(keras.callbacks.Callback):\n",
    "    def on_epoch_end(self, epoch, logs={}):\n",
    "        if(logs.get('acc') > 0.98):\n",
    "            print(\"\\nReached 99% accuracy so cancelling training!\")\n",
    "            self.model.stop_training = True"
   ]
  },
  {
   "cell_type": "code",
   "execution_count": 296,
   "metadata": {},
   "outputs": [],
   "source": [
    "df = pd.read_csv(\"EXTENDED_1.csv\",encoding=\"latin-1\")\n",
    "\n",
    "cols = [\"Favorite food names\",\n",
    "              \"Sleep duration\", \n",
    "              \"Do you start your day by planning(y/n)\",\n",
    "              \"Hardworking\"]\n",
    "\n",
    "dataset = df[cols].copy()"
   ]
  },
  {
   "cell_type": "code",
   "execution_count": 297,
   "metadata": {},
   "outputs": [],
   "source": [
    "dataset = dataset.dropna() # clear missing values rows"
   ]
  },
  {
   "cell_type": "code",
   "execution_count": 298,
   "metadata": {},
   "outputs": [
    {
     "data": {
      "text/plain": [
       "<matplotlib.axes._subplots.AxesSubplot at 0x1facf055940>"
      ]
     },
     "execution_count": 298,
     "metadata": {},
     "output_type": "execute_result"
    },
    {
     "data": {
      "image/png": "[encoded data removed]",
      "text/plain": [
       "<Figure size 432x288 with 1 Axes>"
      ]
     },
     "metadata": {},
     "output_type": "display_data"
    }
   ],
   "source": [
    "dataset.boxplot(by='Sleep duration', column=['Hardworking'], grid= False)"
   ]
  },
  {
   "cell_type": "code",
   "execution_count": 299,
   "metadata": {},
   "outputs": [
    {
     "data": {
      "text/html": [
       "<div>\n",
       "<style scoped>\n",
       "    .dataframe tbody tr th:only-of-type {\n",
       "        vertical-align: middle;\n",
       "    }\n",
       "\n",
       "    .dataframe tbody tr th {\n",
       "        vertical-align: top;\n",
       "    }\n",
       "\n",
       "    .dataframe thead th {\n",
       "        text-align: right;\n",
       "    }\n",
       "</style>\n",
       "<table border=\"1\" class=\"dataframe\">\n",
       "  <thead>\n",
       "    <tr style=\"text-align: right;\">\n",
       "      <th></th>\n",
       "      <th>Favorite food names</th>\n",
       "      <th>Sleep duration</th>\n",
       "      <th>Do you start your day by planning(y/n)</th>\n",
       "      <th>Hardworking</th>\n",
       "    </tr>\n",
       "  </thead>\n",
       "  <tbody>\n",
       "    <tr>\n",
       "      <th>1</th>\n",
       "      <td>1.0</td>\n",
       "      <td>8.0</td>\n",
       "      <td>0.0</td>\n",
       "      <td>0.0</td>\n",
       "    </tr>\n",
       "    <tr>\n",
       "      <th>2</th>\n",
       "      <td>1.0</td>\n",
       "      <td>8.0</td>\n",
       "      <td>1.0</td>\n",
       "      <td>1.0</td>\n",
       "    </tr>\n",
       "    <tr>\n",
       "      <th>3</th>\n",
       "      <td>0.0</td>\n",
       "      <td>6.0</td>\n",
       "      <td>1.0</td>\n",
       "      <td>1.0</td>\n",
       "    </tr>\n",
       "    <tr>\n",
       "      <th>4</th>\n",
       "      <td>0.0</td>\n",
       "      <td>8.0</td>\n",
       "      <td>0.0</td>\n",
       "      <td>0.0</td>\n",
       "    </tr>\n",
       "    <tr>\n",
       "      <th>5</th>\n",
       "      <td>1.0</td>\n",
       "      <td>6.0</td>\n",
       "      <td>0.0</td>\n",
       "      <td>0.0</td>\n",
       "    </tr>\n",
       "  </tbody>\n",
       "</table>\n",
       "</div>"
      ],
      "text/plain": [
       "   Favorite food names  Sleep duration  \\\n",
       "1                  1.0             8.0   \n",
       "2                  1.0             8.0   \n",
       "3                  0.0             6.0   \n",
       "4                  0.0             8.0   \n",
       "5                  1.0             6.0   \n",
       "\n",
       "   Do you start your day by planning(y/n)  Hardworking  \n",
       "1                                     0.0          0.0  \n",
       "2                                     1.0          1.0  \n",
       "3                                     1.0          1.0  \n",
       "4                                     0.0          0.0  \n",
       "5                                     0.0          0.0  "
      ]
     },
     "execution_count": 299,
     "metadata": {},
     "output_type": "execute_result"
    }
   ],
   "source": [
    "dataset['Favorite food names'] = (dataset['Favorite food names'] == 'Fast food').astype(float)\n",
    "dataset['Do you start your day by planning(y/n)'] = (dataset['Do you start your day by planning(y/n)'] == 'Yes').astype(float)\n",
    "\n",
    "dataset.head()"
   ]
  },
  {
   "cell_type": "code",
   "execution_count": 300,
   "metadata": {},
   "outputs": [
    {
     "data": {
      "text/html": [
       "<div>\n",
       "<style scoped>\n",
       "    .dataframe tbody tr th:only-of-type {\n",
       "        vertical-align: middle;\n",
       "    }\n",
       "\n",
       "    .dataframe tbody tr th {\n",
       "        vertical-align: top;\n",
       "    }\n",
       "\n",
       "    .dataframe thead th {\n",
       "        text-align: right;\n",
       "    }\n",
       "</style>\n",
       "<table border=\"1\" class=\"dataframe\">\n",
       "  <thead>\n",
       "    <tr style=\"text-align: right;\">\n",
       "      <th></th>\n",
       "      <th>Favorite food names</th>\n",
       "      <th>Sleep duration</th>\n",
       "      <th>Do you start your day by planning(y/n)</th>\n",
       "      <th>Hardworking</th>\n",
       "    </tr>\n",
       "  </thead>\n",
       "  <tbody>\n",
       "    <tr>\n",
       "      <th>0</th>\n",
       "      <td>1.0</td>\n",
       "      <td>0.6</td>\n",
       "      <td>0.0</td>\n",
       "      <td>0.0</td>\n",
       "    </tr>\n",
       "    <tr>\n",
       "      <th>1</th>\n",
       "      <td>1.0</td>\n",
       "      <td>0.6</td>\n",
       "      <td>1.0</td>\n",
       "      <td>1.0</td>\n",
       "    </tr>\n",
       "    <tr>\n",
       "      <th>2</th>\n",
       "      <td>0.0</td>\n",
       "      <td>0.2</td>\n",
       "      <td>1.0</td>\n",
       "      <td>1.0</td>\n",
       "    </tr>\n",
       "    <tr>\n",
       "      <th>3</th>\n",
       "      <td>0.0</td>\n",
       "      <td>0.6</td>\n",
       "      <td>0.0</td>\n",
       "      <td>0.0</td>\n",
       "    </tr>\n",
       "    <tr>\n",
       "      <th>4</th>\n",
       "      <td>1.0</td>\n",
       "      <td>0.2</td>\n",
       "      <td>0.0</td>\n",
       "      <td>0.0</td>\n",
       "    </tr>\n",
       "  </tbody>\n",
       "</table>\n",
       "</div>"
      ],
      "text/plain": [
       "   Favorite food names  Sleep duration  \\\n",
       "0                  1.0             0.6   \n",
       "1                  1.0             0.6   \n",
       "2                  0.0             0.2   \n",
       "3                  0.0             0.6   \n",
       "4                  1.0             0.2   \n",
       "\n",
       "   Do you start your day by planning(y/n)  Hardworking  \n",
       "0                                     0.0          0.0  \n",
       "1                                     1.0          1.0  \n",
       "2                                     1.0          1.0  \n",
       "3                                     0.0          0.0  \n",
       "4                                     0.0          0.0  "
      ]
     },
     "execution_count": 300,
     "metadata": {},
     "output_type": "execute_result"
    }
   ],
   "source": [
    "x = dataset.values\n",
    "min_max_scaler = preprocessing.MinMaxScaler()\n",
    "x_scaled = min_max_scaler.fit_transform(x)\n",
    "dataset = pd.DataFrame(x_scaled,columns=cols)\n",
    "\n",
    "dataset.head()"
   ]
  },
  {
   "cell_type": "code",
   "execution_count": 301,
   "metadata": {},
   "outputs": [
    {
     "data": {
      "text/plain": [
       "<matplotlib.axes._subplots.AxesSubplot at 0x1facf6e16a0>"
      ]
     },
     "execution_count": 301,
     "metadata": {},
     "output_type": "execute_result"
    },
    {
     "data": {
      "image/png": "[encoded data removed]",
      "text/plain": [
       "<Figure size 432x288 with 1 Axes>"
      ]
     },
     "metadata": {},
     "output_type": "display_data"
    }
   ],
   "source": [
    "ax = dataset.plot.scatter(x='Favorite food names', y='Sleep duration', color='DarkBlue', label='Group 1')\n",
    "\n",
    "dataset.plot.scatter(x='Do you start your day by planning(y/n)', y='Hardworking', color='DarkGreen', label='Group 2', ax=ax)\n",
    "\n",
    "# dataset.plot.scatter(x='c', y='d', color='DarkGreen', label='Group 2', ax=ax2)"
   ]
  },
  {
   "cell_type": "code",
   "execution_count": 302,
   "metadata": {},
   "outputs": [],
   "source": [
    "train_dataset = dataset.sample(frac=0.9,random_state=0)\n",
    "test_dataset = dataset.drop(train_dataset.index)\n",
    "\n",
    "train_labels = train_dataset.pop(\"Hardworking\")\n",
    "test_labels = test_dataset.pop(\"Hardworking\")"
   ]
  },
  {
   "cell_type": "code",
   "execution_count": 303,
   "metadata": {},
   "outputs": [],
   "source": [
    "def build_model():\n",
    "    model = keras.Sequential([\n",
    "        layers.Dense(128, activation=tf.nn.relu, input_shape=[len(train_dataset.keys())]),\n",
    "        layers.Dense(64, activation=tf.nn.relu),\n",
    "        layers.Dense(1, activation=tf.nn.sigmoid), # binary class => Hardworking or lazy\n",
    "    ])\n",
    "    \n",
    "    model.compile(optimizer= tf.train.AdamOptimizer(),\n",
    "              loss='binary_crossentropy',\n",
    "              metrics=['accuracy'])\n",
    "    return model"
   ]
  },
  {
   "cell_type": "code",
   "execution_count": 304,
   "metadata": {},
   "outputs": [],
   "source": [
    "model = build_model()"
   ]
  },
  {
   "cell_type": "code",
   "execution_count": 305,
   "metadata": {},
   "outputs": [
    {
     "name": "stdout",
     "output_type": "stream",
     "text": [
      "_________________________________________________________________\n",
      "Layer (type)                 Output Shape              Param #   \n",
      "=================================================================\n",
      "dense_51 (Dense)             (None, 128)               512       \n",
      "_________________________________________________________________\n",
      "dense_52 (Dense)             (None, 64)                8256      \n",
      "_________________________________________________________________\n",
      "dense_53 (Dense)             (None, 1)                 65        \n",
      "=================================================================\n",
      "Total params: 8,833\n",
      "Trainable params: 8,833\n",
      "Non-trainable params: 0\n",
      "_________________________________________________________________\n"
     ]
    }
   ],
   "source": [
    "model.summary() # description of the model"
   ]
  },
  {
   "cell_type": "code",
   "execution_count": 306,
   "metadata": {},
   "outputs": [
    {
     "name": "stdout",
     "output_type": "stream",
     "text": [
      "Train on 83 samples, validate on 10 samples\n",
      "Epoch 1/20\n",
      "83/83 [==============================] - 0s 5ms/sample - loss: 0.6764 - acc: 0.6145 - val_loss: 0.6789 - val_acc: 0.5000\n",
      "Epoch 2/20\n",
      "83/83 [==============================] - 0s 332us/sample - loss: 0.6609 - acc: 0.6747 - val_loss: 0.6684 - val_acc: 0.6000\n",
      "Epoch 3/20\n",
      "83/83 [==============================] - 0s 204us/sample - loss: 0.6472 - acc: 0.6988 - val_loss: 0.6573 - val_acc: 0.6000\n",
      "Epoch 4/20\n",
      "83/83 [==============================] - 0s 216us/sample - loss: 0.6345 - acc: 0.6988 - val_loss: 0.6469 - val_acc: 0.6000\n",
      "Epoch 5/20\n",
      "83/83 [==============================] - 0s 216us/sample - loss: 0.6215 - acc: 0.6988 - val_loss: 0.6350 - val_acc: 0.6000\n",
      "Epoch 6/20\n",
      "83/83 [==============================] - 0s 192us/sample - loss: 0.6086 - acc: 0.6988 - val_loss: 0.6224 - val_acc: 0.6000\n",
      "Epoch 7/20\n",
      "83/83 [==============================] - 0s 204us/sample - loss: 0.5962 - acc: 0.7108 - val_loss: 0.6097 - val_acc: 0.6000\n",
      "Epoch 8/20\n",
      "83/83 [==============================] - 0s 204us/sample - loss: 0.5838 - acc: 0.6988 - val_loss: 0.5969 - val_acc: 0.6000\n",
      "Epoch 9/20\n",
      "83/83 [==============================] - 0s 192us/sample - loss: 0.5715 - acc: 0.7831 - val_loss: 0.5834 - val_acc: 0.8000\n",
      "Epoch 10/20\n",
      "83/83 [==============================] - 0s 240us/sample - loss: 0.5575 - acc: 0.8072 - val_loss: 0.5684 - val_acc: 0.8000\n",
      "Epoch 11/20\n",
      "83/83 [==============================] - 0s 216us/sample - loss: 0.5432 - acc: 0.8072 - val_loss: 0.5537 - val_acc: 0.8000\n",
      "Epoch 12/20\n",
      "83/83 [==============================] - 0s 216us/sample - loss: 0.5308 - acc: 0.8072 - val_loss: 0.5406 - val_acc: 0.8000\n",
      "Epoch 13/20\n",
      "83/83 [==============================] - 0s 264us/sample - loss: 0.5192 - acc: 0.8072 - val_loss: 0.5280 - val_acc: 0.8000\n",
      "Epoch 14/20\n",
      "83/83 [==============================] - 0s 192us/sample - loss: 0.5062 - acc: 0.8072 - val_loss: 0.5172 - val_acc: 0.8000\n",
      "Epoch 15/20\n",
      "83/83 [==============================] - 0s 204us/sample - loss: 0.4967 - acc: 0.8072 - val_loss: 0.5061 - val_acc: 0.8000\n",
      "Epoch 16/20\n",
      "83/83 [==============================] - 0s 240us/sample - loss: 0.4843 - acc: 0.8072 - val_loss: 0.4978 - val_acc: 0.8000\n",
      "Epoch 17/20\n",
      "83/83 [==============================] - 0s 204us/sample - loss: 0.4748 - acc: 0.8072 - val_loss: 0.4885 - val_acc: 0.8000\n",
      "Epoch 18/20\n",
      "83/83 [==============================] - 0s 240us/sample - loss: 0.4657 - acc: 0.8072 - val_loss: 0.4750 - val_acc: 0.8000\n",
      "Epoch 19/20\n",
      "83/83 [==============================] - 0s 216us/sample - loss: 0.4570 - acc: 0.8072 - val_loss: 0.4620 - val_acc: 0.8000\n",
      "Epoch 20/20\n",
      "83/83 [==============================] - 0s 240us/sample - loss: 0.4495 - acc: 0.7711 - val_loss: 0.4507 - val_acc: 0.8000\n"
     ]
    }
   ],
   "source": [
    "callbacks = myCallback()\n",
    "\n",
    "history = model.fit(train_dataset,train_labels,epochs=20,validation_split=0.1,callbacks=[callbacks])"
   ]
  },
  {
   "cell_type": "code",
   "execution_count": 307,
   "metadata": {},
   "outputs": [
    {
     "name": "stdout",
     "output_type": "stream",
     "text": [
      "10/10 [==============================] - 0s 399us/sample - loss: 0.4405 - acc: 0.8000\n",
      "Loss: 0.440535306930542  Accuracy: 0.8\n"
     ]
    }
   ],
   "source": [
    "eval_model = model.evaluate(test_dataset,test_labels)\n",
    "\n",
    "print('Loss:',eval_model[0],' Accuracy:',eval_model[1])"
   ]
  },
  {
   "cell_type": "code",
   "execution_count": 308,
   "metadata": {},
   "outputs": [],
   "source": [
    "test_predictions = model.predict(test_dataset)\n",
    "test_predictions = (test_predictions > 0.5)"
   ]
  },
  {
   "cell_type": "code",
   "execution_count": 309,
   "metadata": {},
   "outputs": [
    {
     "name": "stdout",
     "output_type": "stream",
     "text": [
      "[[7 0]\n",
      " [2 1]]\n"
     ]
    }
   ],
   "source": [
    "from sklearn.metrics import confusion_matrix\n",
    "cm = confusion_matrix(test_labels, test_predictions)\n",
    "print(cm)\n",
    "\n",
    "# Confusion matrix for binary classification\n",
    "# [[TNeg FPos]\n",
    "#  [FNeg TPos]]"
   ]
  },
  {
   "cell_type": "code",
   "execution_count": null,
   "metadata": {},
   "outputs": [],
   "source": []
  }
 ],
 "metadata": {
  "kernelspec": {
   "display_name": "Python 3",
   "language": "python",
   "name": "python3"
  },
  "language_info": {
   "codemirror_mode": {
    "name": "ipython",
    "version": 3
   },
   "file_extension": ".py",
   "mimetype": "text/x-python",
   "name": "python",
   "nbconvert_exporter": "python",
   "pygments_lexer": "ipython3",
   "version": "3.6.5"
  }
 },
 "nbformat": 4,
 "nbformat_minor": 2
}
